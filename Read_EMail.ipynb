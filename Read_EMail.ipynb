{
 "cells": [
  {
   "cell_type": "code",
   "execution_count": 127,
   "metadata": {},
   "outputs": [],
   "source": [
    "import time\n",
    "import email\n",
    "import smtplib\n",
    "import imaplib\n",
    "import mailparser\n",
    "import mysql\n",
    "import mysql.connector\n",
    "\n",
    "\n",
    "conn=mysql.connector.connect(host=\"localhost\",user=\"root\",password=\"abcd@1234\")\n",
    "crs=conn.cursor()\n",
    "crs.execute('use mpr')\n",
    "insert='insert into db values(null,%s,%s,%s,%s,%s,%s,%s,%s)'\n",
    "\n",
    "def read_email_from_gmail(crs):\n",
    "    try:\n",
    "        server = imaplib.IMAP4_SSL('imap.gmail.com')\n",
    "        server.login(\"garglakshay631@gmail.com\",\"abcd@1234\")\n",
    "        server.select('inbox')\n",
    "\n",
    "        typ, data = server.search(None, 'ALL')\n",
    "        print(\"Connection\",typ)\n",
    "        print(data)\n",
    "        mail_ids = data[0]\n",
    "        \n",
    "        id_list = mail_ids.split()  \n",
    "        first_email = int(id_list[0])\n",
    "        latest_email = int(id_list[-1])\n",
    "        for i in range(latest_email,first_email-1,-1):\n",
    "            typ, data = server.fetch(str(i), '(RFC822)' )\n",
    "            for response_part in data:\n",
    "                if isinstance(response_part, tuple):\n",
    "                    mail = mailparser.parse_from_bytes(response_part[-1])\n",
    "                    name=mail.subject\n",
    "                    to=mail.to[-1][-1]\n",
    "                    from_=mail.from_[-1][-1]\n",
    "                    att=mail.attachments\n",
    "                    body=mail.text_plain[-1]\n",
    "                    b=body.split('\\r\\n')\n",
    "                    contact=b[-1]\n",
    "                    date=b[-3]\n",
    "                    venue=b[-5]\n",
    "                    reg=b[-7]\n",
    "                    str1=\" \".join(b[:-7])\n",
    "                    val=(from_,to,name,str1,date,venue,reg,contact)\n",
    "                    crs.execute(insert,val)\n",
    "        conn.commit()\n",
    "\n",
    "    except (Exception, e):\n",
    "        print (str(e))"
   ]
  },
  {
   "cell_type": "code",
   "execution_count": 128,
   "metadata": {
    "scrolled": true
   },
   "outputs": [
    {
     "name": "stdout",
     "output_type": "stream",
     "text": [
      "Connection OK\n",
      "[b'1']\n"
     ]
    }
   ],
   "source": [
    "read_email_from_gmail(crs)"
   ]
  }
 ],
 "metadata": {
  "kernelspec": {
   "display_name": "Python 3",
   "language": "python",
   "name": "python3"
  },
  "language_info": {
   "codemirror_mode": {
    "name": "ipython",
    "version": 3
   },
   "file_extension": ".py",
   "mimetype": "text/x-python",
   "name": "python",
   "nbconvert_exporter": "python",
   "pygments_lexer": "ipython3",
   "version": "3.6.5"
  }
 },
 "nbformat": 4,
 "nbformat_minor": 2
}
