{
 "cells": [
  {
   "cell_type": "code",
   "execution_count": 57,
   "metadata": {},
   "outputs": [],
   "source": [
    "import time\n",
    "import email\n",
    "import smtplib\n",
    "import imaplib\n",
    "def read_email_from_gmail():\n",
    "    try:\n",
    "        mail = imaplib.IMAP4_SSL('imap.gmail.com')\n",
    "        mail.login(\"garglakshay631@gmail.com\",\"abcd@1234\")\n",
    "        mail.select('inbox')\n",
    "\n",
    "        typ, data = mail.search(None, 'ALL')\n",
    "        print(typ)\n",
    "        print(data)\n",
    "        mail_ids = data[0]\n",
    "\n",
    "        id_list = mail_ids.split()  \n",
    "        print(id_list)\n",
    "        first_email_id = int(id_list[0])\n",
    "        print(first_email_id)\n",
    "        latest_email_id = int(id_list[-1])\n",
    "        print(latest_email_id)\n",
    "\n",
    "\n",
    "        for i in range(latest_email_id,first_email_id, -1):\n",
    "            typ, data = mail.fetch(str(i), '(RFC822)' )\n",
    "\n",
    "            for response_part in data:\n",
    "                print(response_part[-1])\n",
    "                if isinstance(response_part, tuple):\n",
    "                    msg = email.message_from_string(response_part[1])\n",
    "                    email_subject = msg['subject']\n",
    "                    email_from = msg['from']\n",
    "                    print('From : ' + email_from + '\\n')\n",
    "                    print ('Subject : ' + email_subject + '\\n')\n",
    "\n",
    "    except (Exception, e):\n",
    "        print (str(e))"
   ]
  },
  {
   "cell_type": "code",
   "execution_count": 58,
   "metadata": {
    "scrolled": false
   },
   "outputs": [
    {
     "name": "stdout",
     "output_type": "stream",
     "text": [
      "OK\n",
      "[b'1 2 3 4 5 6']\n",
      "[b'1', b'2', b'3', b'4', b'5', b'6']\n",
      "1\n",
      "6\n",
      "b'Delivered-To: garglakshay631@gmail.com\\r\\nReceived: by 2002:a9d:11f3:0:0:0:0:0 with SMTP id y48-v6csp5047409oty;\\r\\n        Tue, 18 Sep 2018 04:35:20 -0700 (PDT)\\r\\nX-Received: by 2002:a67:8391:: with SMTP id f139-v6mr9173708vsd.6.1537270520151;\\r\\n        Tue, 18 Sep 2018 04:35:20 -0700 (PDT)\\r\\nARC-Seal: i=1; a=rsa-sha256; t=1537270520; cv=none;\\r\\n        d=google.com; s=arc-20160816;\\r\\n        b=vwtGavgfct71/uc8MTHYkyKneNiVtitpic5wkJrlgOw+fnYdj0pIvbQ5r8azIyKlPF\\r\\n         RuxcydMmkuvNXkfrJJd7Ogs/tzFWAy7tQ2Y/o87VOrbcWua7MoXI/8dNB1hCFX1iygas\\r\\n         PLwY0OxEvsCWgF6auWxLxvCNLaoDQkfNDq4Cs75wP2EKoQqC1RAjzFE1i12lRJS0BVVX\\r\\n         wykX5x7ju9f973QOoTzKoa6yvvOBdZhjBzqu+IBIHIb+YJ+jw20Q2RflM0toSdx9r+xN\\r\\n         MhVbRXfsC9E3OYdcW+fRU2ypOUEHa1DI1VvNg3wFzxRw/MzG/IfRBFgmadjLId205fsb\\r\\n         avQw==\\r\\nARC-Message-Signature: i=1; a=rsa-sha256; c=relaxed/relaxed; d=google.com; s=arc-20160816;\\r\\n        h=to:subject:message-id:date:from:mime-version:dkim-signature;\\r\\n        bh=JRqU5P6O+Z+yMTvvcwSYMUu4inyHfaNqmM9Q7Sc6LR8=;\\r\\n        b=UHakFNnxTJpyp7LWSTnvCD1ilw/wtBkeE6/zfLQYtBJt0uXrrnQTPZGxk9U8Mr01jV\\r\\n         KnuU3xfTHvon0T40KfAXnOXL89gUx/TPLAtY/ZunnhaTV0/aXay7JJJkN/it4xcjUnRr\\r\\n         E768mCNm8r7jso6FXSKkFZ2ZGq8JxUmKwujzd3fC+bjH/v3gdLJOrDzGrd+8/htn1SyD\\r\\n         VrEbLmhlCeOwDr0h3TuoE/8PjJLfqzWcZJPfyqXX4ICJX2vjAyqe/YQgrnIiQzoF+DNZ\\r\\n         wkHhtkpe69rWWdni4DuAhzZVayiY8Kd7ImrxikrmYN4o87B7r/7HfuOz/Qvd2mm34LQN\\r\\n         XP1A==\\r\\nARC-Authentication-Results: i=1; mx.google.com;\\r\\n       dkim=pass header.i=@msi-ggsip.org header.s=google header.b=lfNmGzrQ;\\r\\n       spf=pass (google.com: domain of lakshay04014902016@msi-ggsip.org designates 209.85.220.41 as permitted sender) smtp.mailfrom=lakshay04014902016@msi-ggsip.org\\r\\nReturn-Path: <lakshay04014902016@msi-ggsip.org>\\r\\nReceived: from mail-sor-f41.google.com (mail-sor-f41.google.com. [209.85.220.41])\\r\\n        by mx.google.com with SMTPS id j67-v6sor6640127vkc.51.2018.09.18.04.35.20\\r\\n        for <garglakshay631@gmail.com>\\r\\n        (Google Transport Security);\\r\\n        Tue, 18 Sep 2018 04:35:20 -0700 (PDT)\\r\\nReceived-SPF: pass (google.com: domain of lakshay04014902016@msi-ggsip.org designates 209.85.220.41 as permitted sender) client-ip=209.85.220.41;\\r\\nAuthentication-Results: mx.google.com;\\r\\n       dkim=pass header.i=@msi-ggsip.org header.s=google header.b=lfNmGzrQ;\\r\\n       spf=pass (google.com: domain of lakshay04014902016@msi-ggsip.org designates 209.85.220.41 as permitted sender) smtp.mailfrom=lakshay04014902016@msi-ggsip.org\\r\\nDKIM-Signature: v=1; a=rsa-sha256; c=relaxed/relaxed;\\r\\n        d=msi-ggsip.org; s=google;\\r\\n        h=mime-version:from:date:message-id:subject:to;\\r\\n        bh=JRqU5P6O+Z+yMTvvcwSYMUu4inyHfaNqmM9Q7Sc6LR8=;\\r\\n        b=lfNmGzrQEkqZGwRuyx9K6fEe9mnCmsW5b0G0X3C0GahdbHIjycDEBCMYARFFbSbrjo\\r\\n         oVXyOTvTBz9IKOwWMmTlu++EOtDSEnz1UBuh/9+dmPuASKDq1pMundRgo7ZczNsrCXyh\\r\\n         JhypWOz3x/yu6bQ44Oj2xowRDZphFNtfwZaYr71vl4pAy6tN5tEG9n4YampsvLLB+mm9\\r\\n         fGTyBtXH8MKoRKj6RSyWD+9Ne4p4xEFlS8XBx8lqABN6l9Et5WSZKJfJ/B2aHgQHnVyl\\r\\n         dSfRQqU8axNaoOY7Z/o630PWqBLz7lQ82eSuuZWMiwIIFx0jrn9hl6Ss+467KvTbMmqX\\r\\n         3+0A==\\r\\nX-Google-DKIM-Signature: v=1; a=rsa-sha256; c=relaxed/relaxed;\\r\\n        d=1e100.net; s=20161025;\\r\\n        h=x-gm-message-state:mime-version:from:date:message-id:subject:to;\\r\\n        bh=JRqU5P6O+Z+yMTvvcwSYMUu4inyHfaNqmM9Q7Sc6LR8=;\\r\\n        b=s+yWSyhqLUPXQUnaIHkXXgTO43RL2NVyI0V6GBigAvAok5X/RGjJXA/5CE92zZijm/\\r\\n         3XU19YVNqSRPURBAH2WiFmiLzMHeP0RJ0j6pz2nK4mm/h0e3aluWr5t94mIupCmeE/5K\\r\\n         KLRdw5gZPxOHsMLb5Byh0NWrBu21sRdqSv50sc756KBLfhU18PpYw+bYmxU4YhDNgI39\\r\\n         ceXckHnohPzXJdsXgr4dCMUZoU9hVjcb7io5LZ1iOaj9jYTqSoZ6Bg4iI6dkK58Ik7LI\\r\\n         ReVGp3tbTjf1iKQsdDLmMwsoXNfJLZF6UO+AvcAMSkM56sbXTKtTeYn6MJv1M8vIJ1b3\\r\\n         3yMg==\\r\\nX-Gm-Message-State: APzg51BFdc8hz87ac5ju5a0iwiRsNf0ziertXXViJH20hR3G9uKOHAgN\\r\\n\\toZyD+fjZLju/VvC8wAqA7VA+S7bIRkVJKuaLB8Rvim1Y\\r\\nX-Google-Smtp-Source: ANB0VdaqxReA0RGlPRJOY15qZzzIiTHv7wjj4ME3QuiPNzrnHErvi/QTYEp/sLAGfLVJemr89+NE/e9rwbujEGFhJuA=\\r\\nX-Received: by 2002:a1f:5d2:: with SMTP id 201-v6mr7761935vkf.89.1537270519633;\\r\\n Tue, 18 Sep 2018 04:35:19 -0700 (PDT)\\r\\nMIME-Version: 1.0\\r\\nFrom: lakshay garg <lakshay04014902016@msi-ggsip.org>\\r\\nDate: Tue, 18 Sep 2018 17:05:08 +0530\\r\\nMessage-ID: <CAKqPbg1VM3v_LfzyBnPOBvGBZfjXxYyyRjXM8mnbO7J0GtnLPg@mail.gmail.com>\\r\\nSubject: \\r\\nTo: garglakshay631@gmail.com\\r\\nContent-Type: multipart/alternative; boundary=\"0000000000003f24cb057623af60\"\\r\\n\\r\\n--0000000000003f24cb057623af60\\r\\nContent-Type: text/plain; charset=\"UTF-8\"\\r\\n\\r\\nHi\\r\\n\\r\\n-- \\r\\nRegards,\\r\\nLakshay Garg\\r\\nDelhi\\r\\n\\r\\n--0000000000003f24cb057623af60\\r\\nContent-Type: text/html; charset=\"UTF-8\"\\r\\n\\r\\n<div dir=\"ltr\">Hi<br clear=\"all\"><div><br></div>-- <br><div dir=\"ltr\" class=\"gmail_signature\" data-smartmail=\"gmail_signature\"><div dir=\"ltr\">Regards,<div>Lakshay Garg</div><div>Delhi</div></div></div></div>\\r\\n\\r\\n--0000000000003f24cb057623af60--\\r\\n'\n"
     ]
    },
    {
     "ename": "NameError",
     "evalue": "name 'e' is not defined",
     "output_type": "error",
     "traceback": [
      "\u001b[0;31m---------------------------------------------------------------------------\u001b[0m",
      "\u001b[0;31mTypeError\u001b[0m                                 Traceback (most recent call last)",
      "\u001b[0;32m<ipython-input-57-c47bd1a6212a>\u001b[0m in \u001b[0;36mread_email_from_gmail\u001b[0;34m()\u001b[0m\n\u001b[1;32m     29\u001b[0m                 \u001b[0;32mif\u001b[0m \u001b[0misinstance\u001b[0m\u001b[0;34m(\u001b[0m\u001b[0mresponse_part\u001b[0m\u001b[0;34m,\u001b[0m \u001b[0mtuple\u001b[0m\u001b[0;34m)\u001b[0m\u001b[0;34m:\u001b[0m\u001b[0;34m\u001b[0m\u001b[0m\n\u001b[0;32m---> 30\u001b[0;31m                     \u001b[0mmsg\u001b[0m \u001b[0;34m=\u001b[0m \u001b[0memail\u001b[0m\u001b[0;34m.\u001b[0m\u001b[0mmessage_from_string\u001b[0m\u001b[0;34m(\u001b[0m\u001b[0mresponse_part\u001b[0m\u001b[0;34m[\u001b[0m\u001b[0;36m1\u001b[0m\u001b[0;34m]\u001b[0m\u001b[0;34m)\u001b[0m\u001b[0;34m\u001b[0m\u001b[0m\n\u001b[0m\u001b[1;32m     31\u001b[0m                     \u001b[0memail_subject\u001b[0m \u001b[0;34m=\u001b[0m \u001b[0mmsg\u001b[0m\u001b[0;34m[\u001b[0m\u001b[0;34m'subject'\u001b[0m\u001b[0;34m]\u001b[0m\u001b[0;34m\u001b[0m\u001b[0m\n",
      "\u001b[0;32m~/anaconda3/lib/python3.6/email/__init__.py\u001b[0m in \u001b[0;36mmessage_from_string\u001b[0;34m(s, *args, **kws)\u001b[0m\n\u001b[1;32m     37\u001b[0m     \u001b[0;32mfrom\u001b[0m \u001b[0memail\u001b[0m\u001b[0;34m.\u001b[0m\u001b[0mparser\u001b[0m \u001b[0;32mimport\u001b[0m \u001b[0mParser\u001b[0m\u001b[0;34m\u001b[0m\u001b[0m\n\u001b[0;32m---> 38\u001b[0;31m     \u001b[0;32mreturn\u001b[0m \u001b[0mParser\u001b[0m\u001b[0;34m(\u001b[0m\u001b[0;34m*\u001b[0m\u001b[0margs\u001b[0m\u001b[0;34m,\u001b[0m \u001b[0;34m**\u001b[0m\u001b[0mkws\u001b[0m\u001b[0;34m)\u001b[0m\u001b[0;34m.\u001b[0m\u001b[0mparsestr\u001b[0m\u001b[0;34m(\u001b[0m\u001b[0ms\u001b[0m\u001b[0;34m)\u001b[0m\u001b[0;34m\u001b[0m\u001b[0m\n\u001b[0m\u001b[1;32m     39\u001b[0m \u001b[0;34m\u001b[0m\u001b[0m\n",
      "\u001b[0;32m~/anaconda3/lib/python3.6/email/parser.py\u001b[0m in \u001b[0;36mparsestr\u001b[0;34m(self, text, headersonly)\u001b[0m\n\u001b[1;32m     67\u001b[0m         \"\"\"\n\u001b[0;32m---> 68\u001b[0;31m         \u001b[0;32mreturn\u001b[0m \u001b[0mself\u001b[0m\u001b[0;34m.\u001b[0m\u001b[0mparse\u001b[0m\u001b[0;34m(\u001b[0m\u001b[0mStringIO\u001b[0m\u001b[0;34m(\u001b[0m\u001b[0mtext\u001b[0m\u001b[0;34m)\u001b[0m\u001b[0;34m,\u001b[0m \u001b[0mheadersonly\u001b[0m\u001b[0;34m=\u001b[0m\u001b[0mheadersonly\u001b[0m\u001b[0;34m)\u001b[0m\u001b[0;34m\u001b[0m\u001b[0m\n\u001b[0m\u001b[1;32m     69\u001b[0m \u001b[0;34m\u001b[0m\u001b[0m\n",
      "\u001b[0;31mTypeError\u001b[0m: initial_value must be str or None, not bytes",
      "\nDuring handling of the above exception, another exception occurred:\n",
      "\u001b[0;31mNameError\u001b[0m                                 Traceback (most recent call last)",
      "\u001b[0;32m<ipython-input-58-31790f2d6136>\u001b[0m in \u001b[0;36m<module>\u001b[0;34m()\u001b[0m\n\u001b[0;32m----> 1\u001b[0;31m \u001b[0mread_email_from_gmail\u001b[0m\u001b[0;34m(\u001b[0m\u001b[0;34m)\u001b[0m\u001b[0;34m\u001b[0m\u001b[0m\n\u001b[0m",
      "\u001b[0;32m<ipython-input-57-c47bd1a6212a>\u001b[0m in \u001b[0;36mread_email_from_gmail\u001b[0;34m()\u001b[0m\n\u001b[1;32m     34\u001b[0m                     \u001b[0mprint\u001b[0m \u001b[0;34m(\u001b[0m\u001b[0;34m'Subject : '\u001b[0m \u001b[0;34m+\u001b[0m \u001b[0memail_subject\u001b[0m \u001b[0;34m+\u001b[0m \u001b[0;34m'\\n'\u001b[0m\u001b[0;34m)\u001b[0m\u001b[0;34m\u001b[0m\u001b[0m\n\u001b[1;32m     35\u001b[0m \u001b[0;34m\u001b[0m\u001b[0m\n\u001b[0;32m---> 36\u001b[0;31m     \u001b[0;32mexcept\u001b[0m \u001b[0;34m(\u001b[0m\u001b[0mException\u001b[0m\u001b[0;34m,\u001b[0m \u001b[0me\u001b[0m\u001b[0;34m)\u001b[0m\u001b[0;34m:\u001b[0m\u001b[0;34m\u001b[0m\u001b[0m\n\u001b[0m\u001b[1;32m     37\u001b[0m         \u001b[0mprint\u001b[0m \u001b[0;34m(\u001b[0m\u001b[0mstr\u001b[0m\u001b[0;34m(\u001b[0m\u001b[0me\u001b[0m\u001b[0;34m)\u001b[0m\u001b[0;34m)\u001b[0m\u001b[0;34m\u001b[0m\u001b[0m\n",
      "\u001b[0;31mNameError\u001b[0m: name 'e' is not defined"
     ]
    }
   ],
   "source": [
    "read_email_from_gmail()"
   ]
  },
  {
   "cell_type": "code",
   "execution_count": null,
   "metadata": {},
   "outputs": [],
   "source": [
    "i=[1,2,3,4,5]\n",
    "a=str(i[0])\n",
    "print(a)\n",
    "print(type(a))"
   ]
  },
  {
   "cell_type": "code",
   "execution_count": null,
   "metadata": {},
   "outputs": [],
   "source": []
  }
 ],
 "metadata": {
  "kernelspec": {
   "display_name": "Python 3",
   "language": "python",
   "name": "python3"
  },
  "language_info": {
   "codemirror_mode": {
    "name": "ipython",
    "version": 3
   },
   "file_extension": ".py",
   "mimetype": "text/x-python",
   "name": "python",
   "nbconvert_exporter": "python",
   "pygments_lexer": "ipython3",
   "version": "3.6.5"
  }
 },
 "nbformat": 4,
 "nbformat_minor": 2
}
